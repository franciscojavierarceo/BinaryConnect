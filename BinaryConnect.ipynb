{
 "cells": [
  {
   "cell_type": "code",
   "execution_count": 3,
   "metadata": {
    "collapsed": false
   },
   "outputs": [
    {
     "name": "stdout",
     "output_type": "stream",
     "text": [
      "Loading MNIST data...\n",
      "Building the model...\n",
      "Using Stochastic Binary Connect with Support Vector Machine Output Layer\n",
      "... training\n",
      "training @ iter =  0\n",
      "training @ iter =  100\n",
      "training @ iter =  200\n",
      "epoch 1, minibatch 250/250, learning rate 0.010000, training error 89.990000 %, validation error 90.090000 %, test error 90.200000 %\n",
      "     epoch 1, minibatch 250/250, test error of best model 90.200000 %learning rate 0.010000\n",
      "training @ iter =  300\n",
      "training @ iter =  400\n",
      "epoch 2, minibatch 250/250, learning rate 0.006310, training error 89.990000 %, validation error 90.090000 %, test error 90.200000 %\n",
      "training @ iter =  500\n",
      "training @ iter =  600\n",
      "training @ iter =  700\n",
      "epoch 3, minibatch 250/250, learning rate 0.003981, training error 89.990000 %, validation error 90.090000 %, test error 90.200000 %\n",
      "training @ iter =  800\n",
      "training @ iter =  900\n",
      "epoch 4, minibatch 250/250, learning rate 0.002512, training error 89.990000 %, validation error 90.090000 %, test error 90.200000 %\n",
      "training @ iter =  1000\n",
      "training @ iter =  1100\n",
      "training @ iter =  1200\n",
      "epoch 5, minibatch 250/250, learning rate 0.001585, training error 89.990000 %, validation error 90.090000 %, test error 90.200000 %\n",
      "Optimization complete.\n",
      "Best validation score of 90.090000 % obtained at iteration 250, with test performance 90.200000 %\n",
      "('W =', CudaNdarray([[ nan  nan  nan ...,  nan  nan  nan]\n",
      " [ nan  nan  nan ...,  nan  nan  nan]\n",
      " [ nan  nan  nan ...,  nan  nan  nan]\n",
      " ..., \n",
      " [ nan  nan  nan ...,  nan  nan  nan]\n",
      " [ nan  nan  nan ...,  nan  nan  nan]\n",
      " [ nan  nan  nan ...,  nan  nan  nan]]))\n",
      "('Wb =', array([[ 1.,  1.,  1., ...,  1.,  1.,  1.],\n",
      "       [ 1.,  1.,  1., ...,  1.,  1.,  1.],\n",
      "       [ 1.,  1.,  1., ...,  1.,  1.,  1.],\n",
      "       ..., \n",
      "       [ 1.,  1.,  1., ...,  1.,  1.,  1.],\n",
      "       [ 1.,  1.,  1., ...,  1.,  1.,  1.],\n",
      "       [ 1.,  1.,  1., ...,  1.,  1.,  1.]], dtype=float32))\n"
     ]
    },
    {
     "name": "stderr",
     "output_type": "stream",
     "text": [
      "The training process for function mlp ran for 0.60m\n"
     ]
    }
   ],
   "source": [
    "from bc import *\n",
    "out = mlp(initial_learning_rate=0.01, final_learning_rate=0.001,\n",
    "         L1_reg=0.000, L2_reg=0.000, n_epochs=5, batch_size=200,\n",
    "         n_hidden=1024, n_hiddenLayers=3, verbose=True, \n",
    "         stochastic=True, binary=True, which_data='mnist', \n",
    "         seedval=420, outputlayer='svm', early_stopping=True)"
   ]
  },
  {
   "cell_type": "code",
   "execution_count": 14,
   "metadata": {
    "collapsed": false
   },
   "outputs": [
    {
     "name": "stdout",
     "output_type": "stream",
     "text": [
      "Loading MNIST data...\n",
      "Building the model...\n",
      "Using Deterministic Binary Connect with Support Vector Machine Output Layer\n",
      "... training\n",
      "Optimization complete.\n",
      "Best validation score of 90.090000 % obtained at iteration 250, with test performance 90.200000 %\n",
      "('W =', CudaNdarray([[ nan  nan  nan ...,  nan  nan  nan]\n",
      " [ nan  nan  nan ...,  nan  nan  nan]\n",
      " [ nan  nan  nan ...,  nan  nan  nan]\n",
      " ..., \n",
      " [ nan  nan  nan ...,  nan  nan  nan]\n",
      " [ nan  nan  nan ...,  nan  nan  nan]\n",
      " [ nan  nan  nan ...,  nan  nan  nan]]))\n",
      "('Wb =', array([[ 1.,  1.,  1., ...,  1.,  1.,  1.],\n",
      "       [ 1.,  1.,  1., ...,  1.,  1.,  1.],\n",
      "       [ 1.,  1.,  1., ...,  1.,  1.,  1.],\n",
      "       ..., \n",
      "       [ 1.,  1.,  1., ...,  1.,  1.,  1.],\n",
      "       [ 1.,  1.,  1., ...,  1.,  1.,  1.],\n",
      "       [ 1.,  1.,  1., ...,  1.,  1.,  1.]], dtype=float32))\n"
     ]
    },
    {
     "name": "stderr",
     "output_type": "stream",
     "text": [
      "The training process for function mlp ran for 0.52m\n"
     ]
    }
   ],
   "source": [
    "import numpy as np\n",
    "from bc import *\n",
    "\n",
    "out = mlp(initial_learning_rate=0.05, final_learning_rate=0.01,\n",
    "         L1_reg=0.000, L2_reg=0.000, n_epochs=5, batch_size=200,\n",
    "         n_hidden=1024, n_hiddenLayers=3, verbose=False, \n",
    "         stochastic=False, binary=True, which_data='mnist', \n",
    "         seedval=420, outputlayer='svm', early_stopping=True)"
   ]
  },
  {
   "cell_type": "code",
   "execution_count": 15,
   "metadata": {
    "collapsed": false
   },
   "outputs": [
    {
     "name": "stdout",
     "output_type": "stream",
     "text": [
      "nan nan\n",
      "1.0 1.0\n"
     ]
    }
   ],
   "source": [
    "print np.min(out.hiddenLayers[0].W.eval()), np.max(out.hiddenLayers[0].W.eval())\n",
    "print np.min(out.hiddenLayers[0].Wb.eval()), np.max(out.hiddenLayers[0].Wb.eval())"
   ]
  },
  {
   "cell_type": "code",
   "execution_count": 36,
   "metadata": {
    "collapsed": false
   },
   "outputs": [],
   "source": []
  }
 ],
 "metadata": {
  "kernelspec": {
   "display_name": "Python 2",
   "language": "python",
   "name": "python2"
  },
  "language_info": {
   "codemirror_mode": {
    "name": "ipython",
    "version": 2
   },
   "file_extension": ".py",
   "mimetype": "text/x-python",
   "name": "python",
   "nbconvert_exporter": "python",
   "pygments_lexer": "ipython2",
   "version": "2.7.11"
  }
 },
 "nbformat": 4,
 "nbformat_minor": 0
}
